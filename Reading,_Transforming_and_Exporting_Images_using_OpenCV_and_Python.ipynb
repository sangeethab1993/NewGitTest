{
  "nbformat": 4,
  "nbformat_minor": 0,
  "metadata": {
    "colab": {
      "name": "Reading, Transforming and Exporting Images using OpenCV and Python.ipynb",
      "provenance": [],
      "mount_file_id": "1d9myowF5gM9mS3qydFsv39RsVlDQk154",
      "authorship_tag": "ABX9TyOWcq9Ft/fI7SMxe1QenQKg",
      "include_colab_link": true
    },
    "kernelspec": {
      "name": "python3",
      "display_name": "Python 3"
    },
    "language_info": {
      "name": "python"
    }
  },
  "cells": [
    {
      "cell_type": "markdown",
      "metadata": {
        "id": "view-in-github",
        "colab_type": "text"
      },
      "source": [
        "<a href=\"https://colab.research.google.com/github/sangeethab1993/NewGitTest/blob/master/Reading%2C_Transforming_and_Exporting_Images_using_OpenCV_and_Python.ipynb\" target=\"_parent\"><img src=\"https://colab.research.google.com/assets/colab-badge.svg\" alt=\"Open In Colab\"/></a>"
      ]
    },
    {
      "cell_type": "code",
      "execution_count": null,
      "metadata": {
        "colab": {
          "base_uri": "https://localhost:8080/"
        },
        "id": "w0Qsy7Jna3nl",
        "outputId": "cff99523-dc07-4e56-8abf-8891fa7e091d"
      },
      "outputs": [
        {
          "output_type": "stream",
          "name": "stdout",
          "text": [
            "Requirement already satisfied: opencv-python in /usr/local/lib/python3.7/dist-packages (4.1.2.30)\n",
            "Requirement already satisfied: numpy>=1.14.5 in /usr/local/lib/python3.7/dist-packages (from opencv-python) (1.21.6)\n"
          ]
        }
      ],
      "source": [
        "!pip install opencv-python"
      ]
    },
    {
      "cell_type": "code",
      "source": [
        "!pip install matplotlib"
      ],
      "metadata": {
        "colab": {
          "base_uri": "https://localhost:8080/"
        },
        "id": "TbEHIF22b2ZZ",
        "outputId": "295ae136-bb0d-4b7a-d76e-8555a453a616"
      },
      "execution_count": null,
      "outputs": [
        {
          "output_type": "stream",
          "name": "stdout",
          "text": [
            "Requirement already satisfied: matplotlib in /usr/local/lib/python3.7/dist-packages (3.2.2)\n",
            "Requirement already satisfied: kiwisolver>=1.0.1 in /usr/local/lib/python3.7/dist-packages (from matplotlib) (1.4.2)\n",
            "Requirement already satisfied: numpy>=1.11 in /usr/local/lib/python3.7/dist-packages (from matplotlib) (1.21.6)\n",
            "Requirement already satisfied: cycler>=0.10 in /usr/local/lib/python3.7/dist-packages (from matplotlib) (0.11.0)\n",
            "Requirement already satisfied: pyparsing!=2.0.4,!=2.1.2,!=2.1.6,>=2.0.1 in /usr/local/lib/python3.7/dist-packages (from matplotlib) (3.0.8)\n",
            "Requirement already satisfied: python-dateutil>=2.1 in /usr/local/lib/python3.7/dist-packages (from matplotlib) (2.8.2)\n",
            "Requirement already satisfied: typing-extensions in /usr/local/lib/python3.7/dist-packages (from kiwisolver>=1.0.1->matplotlib) (4.2.0)\n",
            "Requirement already satisfied: six>=1.5 in /usr/local/lib/python3.7/dist-packages (from python-dateutil>=2.1->matplotlib) (1.15.0)\n"
          ]
        }
      ]
    },
    {
      "cell_type": "markdown",
      "source": [
        "**Import Dependencies**\n",
        "\n",
        "```\n",
        "# This is formatted as code\n",
        "```\n",
        "\n"
      ],
      "metadata": {
        "id": "lae631x8yuyC"
      }
    },
    {
      "cell_type": "code",
      "source": [
        "import cv2\n",
        "import matplotlib.pyplot as plt\n",
        "import os\n"
      ],
      "metadata": {
        "id": "3vBtiw6qb9tn"
      },
      "execution_count": null,
      "outputs": []
    },
    {
      "cell_type": "markdown",
      "source": [
        "**Read Images**"
      ],
      "metadata": {
        "id": "wM2sxAL4zEJ6"
      }
    },
    {
      "cell_type": "code",
      "source": [
        "img_path = os.path.join(\"/content\",\"drive\",\"My Drive\",\"Colab Notebooks\",\"images\",\"card.PNG\")\n",
        "img_path"
      ],
      "metadata": {
        "colab": {
          "base_uri": "https://localhost:8080/",
          "height": 35
        },
        "id": "TTqQXqH4eYr6",
        "outputId": "eaa4add3-1151-440b-bbaa-5af811482362"
      },
      "execution_count": null,
      "outputs": [
        {
          "output_type": "execute_result",
          "data": {
            "text/plain": [
              "'/content/drive/My Drive/Colab Notebooks/images/card.PNG'"
            ],
            "application/vnd.google.colaboratory.intrinsic+json": {
              "type": "string"
            }
          },
          "metadata": {},
          "execution_count": 18
        }
      ]
    },
    {
      "cell_type": "code",
      "source": [
        "img = cv2.imread(img_path)\n",
        "img"
      ],
      "metadata": {
        "colab": {
          "base_uri": "https://localhost:8080/"
        },
        "id": "bxcS6ov3ycXw",
        "outputId": "77ecdb20-a9e4-473f-97a0-e6ffccad40a7"
      },
      "execution_count": null,
      "outputs": [
        {
          "output_type": "execute_result",
          "data": {
            "text/plain": [
              "array([[[205, 225, 250],\n",
              "        [205, 225, 250],\n",
              "        [205, 225, 250],\n",
              "        ...,\n",
              "        [213, 231, 248],\n",
              "        [213, 231, 248],\n",
              "        [213, 231, 248]],\n",
              "\n",
              "       [[205, 225, 250],\n",
              "        [205, 225, 250],\n",
              "        [205, 225, 250],\n",
              "        ...,\n",
              "        [213, 231, 248],\n",
              "        [213, 231, 248],\n",
              "        [213, 231, 248]],\n",
              "\n",
              "       [[205, 225, 250],\n",
              "        [205, 225, 250],\n",
              "        [205, 225, 250],\n",
              "        ...,\n",
              "        [214, 232, 249],\n",
              "        [214, 232, 249],\n",
              "        [214, 232, 249]],\n",
              "\n",
              "       ...,\n",
              "\n",
              "       [[251, 253, 254],\n",
              "        [251, 253, 254],\n",
              "        [251, 253, 254],\n",
              "        ...,\n",
              "        [251, 253, 254],\n",
              "        [251, 253, 254],\n",
              "        [251, 253, 254]],\n",
              "\n",
              "       [[251, 253, 254],\n",
              "        [251, 253, 254],\n",
              "        [251, 253, 254],\n",
              "        ...,\n",
              "        [251, 253, 254],\n",
              "        [251, 253, 254],\n",
              "        [251, 253, 254]],\n",
              "\n",
              "       [[251, 253, 254],\n",
              "        [251, 253, 254],\n",
              "        [251, 253, 254],\n",
              "        ...,\n",
              "        [251, 253, 254],\n",
              "        [251, 253, 254],\n",
              "        [251, 253, 254]]], dtype=uint8)"
            ]
          },
          "metadata": {},
          "execution_count": 20
        }
      ]
    },
    {
      "cell_type": "markdown",
      "source": [
        "**Render Image**"
      ],
      "metadata": {
        "id": "DC9IAS4JzSVC"
      }
    },
    {
      "cell_type": "code",
      "source": [
        "plt.imshow(img)"
      ],
      "metadata": {
        "colab": {
          "base_uri": "https://localhost:8080/",
          "height": 240
        },
        "id": "dG-_to4fyWG2",
        "outputId": "f347c83f-bc36-408a-858b-6ca31d07a22b"
      },
      "execution_count": null,
      "outputs": [
        {
          "output_type": "execute_result",
          "data": {
            "text/plain": [
              "<matplotlib.image.AxesImage at 0x7f4c53038950>"
            ]
          },
          "metadata": {},
          "execution_count": 21
        },
        {
          "output_type": "display_data",
          "data": {
            "text/plain": [
              "<Figure size 432x288 with 1 Axes>"
            ],
            "image/png": "[encoded data removed]"
          },
          "metadata": {
            "needs_background": "light"
          }
        }
      ]
    },
    {
      "cell_type": "code",
      "source": [
        "#recolor = cv2.CvtColor(img,cv2.COLOR_BGR2RGB)\n",
        "recolor = cv2.cvtColor(img, cv2.COLOR_BGR2RGB)\n"
      ],
      "metadata": {
        "id": "TLniCowMzn1H"
      },
      "execution_count": null,
      "outputs": []
    },
    {
      "cell_type": "code",
      "source": [
        "plt.imshow(recolor)"
      ],
      "metadata": {
        "colab": {
          "base_uri": "https://localhost:8080/",
          "height": 240
        },
        "id": "dmmW89ka0UPT",
        "outputId": "d3620852-8326-4c8b-f524-ee39c5cb0fb9"
      },
      "execution_count": null,
      "outputs": [
        {
          "output_type": "execute_result",
          "data": {
            "text/plain": [
              "<matplotlib.image.AxesImage at 0x7f4c519d5610>"
            ]
          },
          "metadata": {},
          "execution_count": 24
        },
        {
          "output_type": "display_data",
          "data": {
            "text/plain": [
              "<Figure size 432x288 with 1 Axes>"
            ],
            "image/png": "[encoded data removed]"
          },
          "metadata": {
            "needs_background": "light"
          }
        }
      ]
    },
    {
      "cell_type": "code",
      "source": [
        "gray = cv2.cvtColor(img, cv2.COLOR_BGR2GRAY)\n"
      ],
      "metadata": {
        "id": "xtsxrrTY0ghp"
      },
      "execution_count": null,
      "outputs": []
    },
    {
      "cell_type": "code",
      "source": [
        "plt.imshow(gray)"
      ],
      "metadata": {
        "colab": {
          "base_uri": "https://localhost:8080/",
          "height": 240
        },
        "id": "7OVCnFYA0nK6",
        "outputId": "7c2180e4-3c45-426a-af98-13ecb750375b"
      },
      "execution_count": null,
      "outputs": [
        {
          "output_type": "execute_result",
          "data": {
            "text/plain": [
              "<matplotlib.image.AxesImage at 0x7f4c5143af90>"
            ]
          },
          "metadata": {},
          "execution_count": 26
        },
        {
          "output_type": "display_data",
          "data": {
            "text/plain": [
              "<Figure size 432x288 with 1 Axes>"
            ],
            "image/png": "[encoded data removed]"
          },
          "metadata": {
            "needs_background": "light"
          }
        }
      ]
    },
    {
      "cell_type": "code",
      "source": [
        "%cd /content/drive/My Drive/Colab Notebooks/"
      ],
      "metadata": {
        "colab": {
          "base_uri": "https://localhost:8080/"
        },
        "id": "ooJwjNNCkwNA",
        "outputId": "384a42b0-7bb9-4958-d4b4-4bcec6c7c50e"
      },
      "execution_count": null,
      "outputs": [
        {
          "output_type": "stream",
          "name": "stdout",
          "text": [
            "/content/drive/My Drive/Colab Notebooks\n"
          ]
        }
      ]
    },
    {
      "cell_type": "markdown",
      "source": [
        "**Write out Image**"
      ],
      "metadata": {
        "id": "UdRnpAvi0vMs"
      }
    },
    {
      "cell_type": "code",
      "source": [
        "cv2.imwrite(\"gray_image.jpg\",gray)"
      ],
      "metadata": {
        "colab": {
          "base_uri": "https://localhost:8080/"
        },
        "id": "AsP6Sc7u00mR",
        "outputId": "3be026da-412f-4ed8-90f0-fd18d66c61cb"
      },
      "execution_count": null,
      "outputs": [
        {
          "output_type": "execute_result",
          "data": {
            "text/plain": [
              "True"
            ]
          },
          "metadata": {},
          "execution_count": 27
        }
      ]
    },
    {
      "cell_type": "code",
      "source": [
        "output_path = os.path.join(\"/content\",\"drive\",\"My Drive\",\"Colab Notebooks\",\"images\", 'outputgray.jpg')\n"
      ],
      "metadata": {
        "id": "Tp7EILs_1Po3"
      },
      "execution_count": null,
      "outputs": []
    },
    {
      "cell_type": "code",
      "source": [
        "cv2.imwrite(output_path,gray)"
      ],
      "metadata": {
        "colab": {
          "base_uri": "https://localhost:8080/"
        },
        "id": "ATpVIcwL1nJS",
        "outputId": "cb4b439f-1641-41a9-ec8a-13d72044f986"
      },
      "execution_count": null,
      "outputs": [
        {
          "output_type": "execute_result",
          "data": {
            "text/plain": [
              "True"
            ]
          },
          "metadata": {},
          "execution_count": 29
        }
      ]
    },
    {
      "cell_type": "code",
      "source": [
        "#%cd opencv-4.5.5"
      ],
      "metadata": {
        "colab": {
          "base_uri": "https://localhost:8080/"
        },
        "id": "F6gQNZbwr1KY",
        "outputId": "40f1504f-9541-4c21-b1f0-f01bc5d5ae82"
      },
      "execution_count": null,
      "outputs": [
        {
          "output_type": "stream",
          "name": "stdout",
          "text": [
            "[Errno 2] No such file or directory: 'opencv-4.5.5/samples'\n",
            "/content/drive/MyDrive/Colab Notebooks/opencv-4.5.5\n"
          ]
        }
      ]
    },
    {
      "cell_type": "code",
      "source": [
        "#%cd samples"
      ],
      "metadata": {
        "colab": {
          "base_uri": "https://localhost:8080/"
        },
        "id": "1Nrd3-JfsKNQ",
        "outputId": "17871460-9f8a-44d9-a2df-0e3c2f23a2c1"
      },
      "execution_count": null,
      "outputs": [
        {
          "output_type": "stream",
          "name": "stdout",
          "text": [
            "/content/drive/MyDrive/Colab Notebooks/opencv-4.5.5/samples\n"
          ]
        }
      ]
    },
    {
      "cell_type": "code",
      "source": [
        "#%cd python"
      ],
      "metadata": {
        "colab": {
          "base_uri": "https://localhost:8080/"
        },
        "id": "w4-Vxm4usR6O",
        "outputId": "20e81b3e-a55f-4558-d1e3-8815da45774e"
      },
      "execution_count": null,
      "outputs": [
        {
          "output_type": "stream",
          "name": "stdout",
          "text": [
            "/content/drive/MyDrive/Colab Notebooks/opencv-4.5.5/samples/python\n"
          ]
        }
      ]
    },
    {
      "cell_type": "code",
      "source": [
        "#!ls\n"
      ],
      "metadata": {
        "colab": {
          "base_uri": "https://localhost:8080/"
        },
        "id": "RvcBrCxJsAE0",
        "outputId": "9686f9d4-3ffd-45d8-e2c3-0740e07b5f63"
      },
      "execution_count": null,
      "outputs": [
        {
          "output_type": "stream",
          "name": "stdout",
          "text": [
            "asift.py\t\t\t       inpaint.py\n",
            "audio_spectrogram.py\t\t       kalman.py\n",
            "browse.py\t\t\t       kmeans.py\n",
            "calibrate.py\t\t\t       laplace.py\n",
            "camera_calibration_show_extrinsics.py  lappyr.py\n",
            "camshift.py\t\t\t       letter_recog.py\n",
            "CMakeLists.txt\t\t\t       lk_homography.py\n",
            "coherence.py\t\t\t       lk_track.py\n",
            "color_histogram.py\t\t       logpolar.py\n",
            "common.py\t\t\t       morphology.py\n",
            "contours.py\t\t\t       mosse.py\n",
            "_coverage.py\t\t\t       mouse_and_match.py\n",
            "deconvolution.py\t\t       mser.py\n",
            "demo.py\t\t\t\t       opencv_version.py\n",
            "dft.py\t\t\t\t       opt_flow.py\n",
            "digits_adjust.py\t\t       peopledetect.py\n",
            "digits.py\t\t\t       plane_ar.py\n",
            "digits_video.py\t\t\t       plane_tracker.py\n",
            "dis_opt_flow.py\t\t\t       qrcode.py\n",
            "distrans.py\t\t\t       _run_winpack_demo.cmd\n",
            "_doc.py\t\t\t\t       squares.py\n",
            "drawing.py\t\t\t       stereo_match.py\n",
            "edge.py\t\t\t\t       stitching_detailed.py\n",
            "essential_mat_reconstr.py\t       stitching.py\n",
            "facedetect.py\t\t\t       text_skewness_correction.py\n",
            "feature_homography.py\t\t       texture_flow.py\n",
            "find_obj.py\t\t\t       tracker.py\n",
            "fitline.py\t\t\t       tst_scene_render.py\n",
            "floodfill.py\t\t\t       turing.py\n",
            "gabor_threads.py\t\t       tutorial_code\n",
            "gaussian_mix.py\t\t\t       video.py\n",
            "grabcut.py\t\t\t       video_threaded.py\n",
            "hist.py\t\t\t\t       video_v4l2.py\n",
            "houghcircles.py\t\t\t       watershed.py\n",
            "houghlines.py\n"
          ]
        }
      ]
    },
    {
      "cell_type": "code",
      "source": [
        "# Histogram sample\n",
        "#!python hist.py"
      ],
      "metadata": {
        "colab": {
          "base_uri": "https://localhost:8080/"
        },
        "id": "Z5KNgpOBlvCW",
        "outputId": "54199804-cf4e-411d-ad6c-9c4487fd1ca4"
      },
      "execution_count": null,
      "outputs": [
        {
          "output_type": "stream",
          "name": "stdout",
          "text": [
            " This is a sample for histogram plotting for RGB images and grayscale images for better understanding of colour distribution\n",
            "\n",
            "Benefit : Learn how to draw histogram of images\n",
            "          Get familier with cv.calcHist, cv.equalizeHist,cv.normalize and some drawing functions\n",
            "\n",
            "Level : Beginner or Intermediate\n",
            "\n",
            "Functions : 1) hist_curve : returns histogram of an image drawn as curves\n",
            "            2) hist_lines : return histogram of an image drawn as bins ( only for grayscale images )\n",
            "\n",
            "Usage : python hist.py <image_file>\n",
            "\n",
            "Abid Rahman 3/14/12 debug Gary Bradski\n",
            "\n",
            "usage : python hist.py <image_file>\n",
            "[ WARN:0] global /io/opencv/modules/core/src/utils/samples.cpp (59) findFile cv::samples::findFile('lena.jpg') => '/content/drive/MyDrive/Colab Notebooks/opencv-4.5.5/samples/python/../../samples/data/lena.jpg'\n",
            " Histogram plotting \n",
            "\n",
            "    Keymap :\n",
            "\n",
            "    a - show histogram for color image in curve mode \n",
            "\n",
            "    b - show histogram in bin mode \n",
            "\n",
            "    c - show equalized histogram (always in bin mode) \n",
            "\n",
            "    d - show histogram for gray image in curve mode \n",
            "\n",
            "    e - show histogram for a normalized image in curve mode \n",
            "\n",
            "    Esc - exit \n",
            "\n",
            "    \n",
            ": cannot connect to X server \n"
          ]
        }
      ]
    },
    {
      "cell_type": "markdown",
      "source": [
        ""
      ],
      "metadata": {
        "id": "8NFF6MCZwsC7"
      }
    }
  ]
}